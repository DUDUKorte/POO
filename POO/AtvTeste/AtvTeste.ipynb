{
 "cells": [
  {
   "cell_type": "markdown",
   "id": "38c12d36-e5cb-4eb6-b16a-8528368a39bd",
   "metadata": {},
   "source": [
    "# Atividade teste"
   ]
  },
  {
   "cell_type": "markdown",
   "id": "c837ab9d-f9d2-4487-8995-660e5952fe73",
   "metadata": {},
   "source": [
    "Gere uma saída de texto entre aspas duplas, criando uma nova linha e posicionando o cursor na linha abaixo."
   ]
  },
  {
   "cell_type": "code",
   "execution_count": 1,
   "id": "dd30ff0b-1310-4367-9bf2-bfee3f7f41e8",
   "metadata": {
    "tags": []
   },
   "outputs": [
    {
     "name": "stdout",
     "output_type": "stream",
     "text": [
      "Informe uma palavra:\n"
     ]
    },
    {
     "name": "stdin",
     "output_type": "stream",
     "text": [
      " codigo\n"
     ]
    },
    {
     "name": "stdout",
     "output_type": "stream",
     "text": [
      "\"codigo\"\n",
      "Informe uma palavra:\n"
     ]
    },
    {
     "ename": "EvaluationInterruptedException",
     "evalue": "Evaluator was interrupted while executing: 'while(true){\n    System.out.printf(\"Informe uma palavra:\\n\");\n\n    palavra = entrada.next();\n\n    System.out.printf('\"'+palavra+'\"'+\"\\n\");\n}'",
     "output_type": "error",
     "traceback": [
      "\u001b[1m\u001b[30m|   \u001b[1m\u001b[30mwhile(true){\u001b[0m",
      "\u001b[1m\u001b[30m|   \u001b[1m\u001b[30m    System.out.printf(\"Informe uma palavra:\\n\");\u001b[0m",
      "\u001b[1m\u001b[30m|   \u001b[1m\u001b[30m\u001b[0m",
      "\u001b[1m\u001b[30m|   \u001b[1m\u001b[30m    palavra = entrada.next();\u001b[0m",
      "\u001b[1m\u001b[30m|   \u001b[1m\u001b[30m\u001b[0m",
      "\u001b[1m\u001b[30m|   \u001b[1m\u001b[30m    System.out.printf('\"'+palavra+'\"'+\"\\n\");\u001b[0m",
      "\u001b[1m\u001b[30m|   \u001b[1m\u001b[30m}\u001b[0m",
      "\u001b[1m\u001b[31mEvaluation interrupted.\u001b[0m"
     ]
    },
    {
     "name": "stdin",
     "output_type": "stream",
     "text": [
      " f\n"
     ]
    }
   ],
   "source": [
    "import java.util.Scanner;\n",
    "Scanner entrada = new Scanner(System.in);\n",
    "String palavra;\n",
    "\n",
    "while(true){\n",
    "    System.out.printf(\"Informe uma palavra:\\n\");\n",
    "\n",
    "    palavra = entrada.next();\n",
    "\n",
    "    System.out.printf('\"'+palavra+'\"'+\"\\n\");\n",
    "}"
   ]
  }
 ],
 "metadata": {
  "kernelspec": {
   "display_name": "Java",
   "language": "java",
   "name": "java"
  },
  "language_info": {
   "codemirror_mode": "java",
   "file_extension": ".jshell",
   "mimetype": "text/x-java-source",
   "name": "Java",
   "pygments_lexer": "java",
   "version": "19.0.2+7-44"
  }
 },
 "nbformat": 4,
 "nbformat_minor": 5
}
